{
 "cells": [
  {
   "attachments": {},
   "cell_type": "markdown",
   "id": "278b6c63",
   "metadata": {},
   "source": [
    "# OpenAI Embeddings\n",
    "\n",
    "Setup dependencies"
   ]
  },
  {
   "cell_type": "code",
   "execution_count": null,
   "id": "f88b9231",
   "metadata": {},
   "outputs": [],
   "source": [
    "%pip install -qU langchain openai tiktoken"
   ]
  },
  {
   "cell_type": "markdown",
   "id": "1776a2be",
   "metadata": {},
   "source": [
    "Let's load the custom OpenAI Embeddings class."
   ]
  },
  {
   "cell_type": "code",
   "execution_count": null,
   "id": "0be1af71",
   "metadata": {},
   "outputs": [],
   "source": [
    "from open.text.embeddings.openai import OpenAIEmbeddings"
   ]
  },
  {
   "cell_type": "code",
   "execution_count": null,
   "id": "2c66e5da",
   "metadata": {},
   "outputs": [],
   "source": [
    "embeddings = OpenAIEmbeddings(openai_api_base=\"http://localhost:8000/v1\")"
   ]
  },
  {
   "cell_type": "code",
   "execution_count": null,
   "id": "14aefb64",
   "metadata": {},
   "outputs": [],
   "source": [
    "text = \"This is a test document.\""
   ]
  },
  {
   "cell_type": "code",
   "execution_count": null,
   "id": "3c39ed33",
   "metadata": {},
   "outputs": [],
   "source": [
    "query_result = embeddings.embed_query(text)"
   ]
  },
  {
   "cell_type": "code",
   "execution_count": null,
   "id": "f77b92ec",
   "metadata": {},
   "outputs": [],
   "source": [
    "len(query_result)"
   ]
  },
  {
   "cell_type": "code",
   "execution_count": null,
   "id": "e3221db6",
   "metadata": {},
   "outputs": [],
   "source": [
    "doc_result = embeddings.embed_documents([text])"
   ]
  },
  {
   "cell_type": "code",
   "execution_count": null,
   "id": "f1bca093",
   "metadata": {},
   "outputs": [],
   "source": [
    "len(doc_result)"
   ]
  },
  {
   "cell_type": "code",
   "execution_count": null,
   "id": "79685ea4",
   "metadata": {},
   "outputs": [],
   "source": [
    "len(doc_result[0])"
   ]
  },
  {
   "cell_type": "code",
   "execution_count": null,
   "id": "7e83f051",
   "metadata": {},
   "outputs": [],
   "source": [
    "doc_result[0] == query_result"
   ]
  },
  {
   "cell_type": "code",
   "execution_count": null,
   "id": "aaad49f8",
   "metadata": {},
   "outputs": [],
   "source": [
    "# if you are behind an explicit proxy, you can use the OPENAI_PROXY environment variable to pass through\n",
    "os.environ[\"OPENAI_PROXY\"] = \"http://proxy.yourcompany.com:8080\""
   ]
  },
  {
   "cell_type": "code",
   "execution_count": null,
   "id": "0a4af9c6",
   "metadata": {},
   "outputs": [],
   "source": []
  }
 ],
 "metadata": {
  "kernelspec": {
   "display_name": "Python 3.11.1 64-bit",
   "language": "python",
   "name": "python3"
  },
  "language_info": {
   "codemirror_mode": {
    "name": "ipython",
    "version": 3
   },
   "file_extension": ".py",
   "mimetype": "text/x-python",
   "name": "python",
   "nbconvert_exporter": "python",
   "pygments_lexer": "ipython3",
   "version": "3.10.10"
  },
  "vscode": {
   "interpreter": {
    "hash": "e971737741ff4ec9aff7dc6155a1060a59a8a6d52c757dbbe66bf8ee389494b1"
   }
  }
 },
 "nbformat": 4,
 "nbformat_minor": 5
}
