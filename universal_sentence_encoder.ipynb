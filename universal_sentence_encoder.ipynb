{
 "cells": [
  {
   "cell_type": "markdown",
   "metadata": {},
   "source": [
    "# Universal Sentence Encoder\n",
    "https://tfhub.dev/google/universal-sentence-encoder-large/5"
   ]
  },
  {
   "cell_type": "code",
   "execution_count": 1,
   "metadata": {},
   "outputs": [],
   "source": [
    "import tensorflow_hub as hub"
   ]
  },
  {
   "cell_type": "code",
   "execution_count": 2,
   "metadata": {},
   "outputs": [
    {
     "name": "stderr",
     "output_type": "stream",
     "text": [
      "2023-07-18 16:59:37.787530: W tensorflow/tsl/framework/cpu_allocator_impl.cc:83] Allocation of 17067520 exceeds 10% of free system memory.\n",
      "2023-07-18 16:59:37.799627: W tensorflow/tsl/framework/cpu_allocator_impl.cc:83] Allocation of 17067520 exceeds 10% of free system memory.\n",
      "2023-07-18 16:59:37.811611: W tensorflow/tsl/framework/cpu_allocator_impl.cc:83] Allocation of 17067520 exceeds 10% of free system memory.\n",
      "2023-07-18 16:59:37.822877: W tensorflow/tsl/framework/cpu_allocator_impl.cc:83] Allocation of 17067520 exceeds 10% of free system memory.\n",
      "2023-07-18 16:59:37.834885: W tensorflow/tsl/framework/cpu_allocator_impl.cc:83] Allocation of 17067520 exceeds 10% of free system memory.\n"
     ]
    }
   ],
   "source": [
    "embed = hub.load(\"universal-sentence-encoder-large/5\")"
   ]
  },
  {
   "cell_type": "code",
   "execution_count": 3,
   "metadata": {},
   "outputs": [],
   "source": [
    "embeddings = embed([\n",
    "    \"The quick brown fox jumps over the lazy dog.\",\n",
    "    \"I am a sentence for which I would like to get its embedding\"])"
   ]
  },
  {
   "cell_type": "code",
   "execution_count": 4,
   "metadata": {},
   "outputs": [
    {
     "name": "stdout",
     "output_type": "stream",
     "text": [
      "(2, 512) <dtype: 'float32'>\n"
     ]
    }
   ],
   "source": [
    "print(embeddings.shape, embeddings.dtype)"
   ]
  },
  {
   "cell_type": "code",
   "execution_count": 6,
   "metadata": {},
   "outputs": [
    {
     "data": {
      "text/plain": [
       "tensorflow.python.framework.ops.EagerTensor"
      ]
     },
     "execution_count": 6,
     "metadata": {},
     "output_type": "execute_result"
    }
   ],
   "source": [
    "type(embeddings[0])"
   ]
  },
  {
   "cell_type": "code",
   "execution_count": 8,
   "metadata": {},
   "outputs": [
    {
     "name": "stdout",
     "output_type": "stream",
     "text": [
      "<class 'list'> 512\n"
     ]
    }
   ],
   "source": [
    "import numpy as np\n",
    "\n",
    "x_np = embeddings[0].numpy()\n",
    "x_list = x_np.tolist()\n",
    "\n",
    "print(type(x_list), len(x_list))"
   ]
  },
  {
   "cell_type": "code",
   "execution_count": null,
   "metadata": {},
   "outputs": [],
   "source": []
  }
 ],
 "metadata": {
  "kernelspec": {
   "display_name": "venv",
   "language": "python",
   "name": "python3"
  },
  "language_info": {
   "codemirror_mode": {
    "name": "ipython",
    "version": 3
   },
   "file_extension": ".py",
   "mimetype": "text/x-python",
   "name": "python",
   "nbconvert_exporter": "python",
   "pygments_lexer": "ipython3",
   "version": "3.10.10"
  },
  "orig_nbformat": 4
 },
 "nbformat": 4,
 "nbformat_minor": 2
}
